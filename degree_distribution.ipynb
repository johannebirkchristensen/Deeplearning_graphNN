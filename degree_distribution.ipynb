{
 "cells": [
  {
   "cell_type": "code",
   "execution_count": 2,
   "metadata": {},
   "outputs": [],
   "source": [
    "import torch_geometric\n",
    "import torch\n",
    "\n",
    "#jupyter notebook --no-browser --port=40000 --ip=$HOSTNAME\n",
    "# pip install jupyter i venv. \n",
    "# venv/jupyter\n",
    "# venv/bin/jupyter-notebook --no-browser --port=40000 --ip=$HOSTNAME\n",
    "\n",
    "\n"
   ]
  },
  {
   "cell_type": "code",
   "execution_count": null,
   "metadata": {},
   "outputs": [
    {
     "name": "stderr",
     "output_type": "stream",
     "text": [
      "/zhome/45/0/155089/deeplearning/venv/lib64/python3.9/site-packages/ogb/nodeproppred/dataset_pyg.py:69: FutureWarning: You are using `torch.load` with `weights_only=False` (the current default value), which uses the default pickle module implicitly. It is possible to construct malicious pickle data which will execute arbitrary code during unpickling (See https://github.com/pytorch/pytorch/blob/main/SECURITY.md#untrusted-models for more details). In a future release, the default value for `weights_only` will be flipped to `True`. This limits the functions that could be executed during unpickling. Arbitrary objects will no longer be allowed to be loaded via this mode unless they are explicitly allowlisted by the user via `torch.serialization.add_safe_globals`. We recommend you start setting `weights_only=True` for any use case where you don't have full control of the loaded file. Please open an issue on GitHub for any issues related to this experimental feature.\n",
      "  self.data, self.slices = torch.load(self.processed_paths[0])\n"
     ]
    },
    {
     "name": "stdout",
     "output_type": "stream",
     "text": [
      "{('author', 'affiliated_with', 'institution'): tensor([[      0,       1,       2,  ..., 1134645, 1134647, 1134648],\n",
      "        [    845,     996,    3197,  ...,    5189,    4668,    4668]]), ('author', 'writes', 'paper'): tensor([[      0,       0,       0,  ..., 1134647, 1134648, 1134648],\n",
      "        [  19703,  289285,  311768,  ...,  657395,  671118,  719594]]), ('paper', 'cites', 'paper'): tensor([[     0,      0,      0,  ..., 736388, 736388, 736388],\n",
      "        [    88,  27449, 121051,  ..., 421711, 427339, 439864]]), ('paper', 'has_topic', 'field_of_study'): tensor([[     0,      0,      0,  ..., 736388, 736388, 736388],\n",
      "        [   145,   2215,   3205,  ...,  21458,  22283,  31934]])}\n",
      "Node 2: Out-Degree = 38, In-Degree = 17\n"
     ]
    }
   ],
   "source": [
    "#graph er en heterogenious graph. \n",
    "#author, field_of_study, institution, and paper, is node types. \n",
    "#num_nodes_dict={\n",
    "#    author=1134649,\n",
    "#    field_of_study=59965,\n",
    "#    institution=8740,\n",
    "#    paper=736389,\n",
    "#}\n",
    "#edge_reltype={\n",
    "#    (author, affiliated_with, institution)=[1043998, 1],\n",
    "#    (author, writes, paper)=[7145660, 1],\n",
    "#    (paper, cites, paper)=[5416271, 1],\n",
    "#    (paper, has_topic, field_of_study)=[7505078, 1],\n",
    "#}\n",
    "### the edge between the different affiliatoins: what paper, has topic on, what field of study. \n",
    "#Node Counts: How many nodes of each type exist.\n",
    "#Edge Indices: How nodes are connected via different relationships.\n",
    "#Node Features: Attributes of each node type.\n",
    "#Node Year: Temporal data related to nodes.\n",
    "#Edge Relationship Types: Type information about edges.\n",
    "#Node Labels: Labels for supervised learning tasks.\n",
    "\n",
    "\n",
    "# Load the dataset\n",
    "from ogb.nodeproppred import PygNodePropPredDataset\n",
    "\n",
    "dataset = PygNodePropPredDataset(name = d_name) \n",
    "\n",
    "split_idx = dataset.get_idx_split()\n",
    "train_idx, valid_idx, test_idx = split_idx[\"train\"], split_idx[\"valid\"], split_idx[\"test\"]\n",
    "graph = dataset[0] # pyg graph objec"
   ]
  },
  {
   "cell_type": "code",
   "execution_count": null,
   "metadata": {},
   "outputs": [],
   "source": [
    "# out degree for ('author', 'affiliated_with', 'institution')\n",
    "import matplotlib.pyplot as plt\n",
    "import seaborn as sns\n",
    "def out_edges(numauth, list):\n",
    "    out_degree_return = []\n",
    "    for i in range(numauth):\n",
    "        node_id = i\n",
    "        author_edge_index = graph.edge_index_dict[list]\n",
    "        out_degree = (author_edge_index[0] == node_id).sum().item() \n",
    "        out_degree_return.append(out_degree)\n",
    "        \n",
    "    return out_degree_return\n",
    "relations = [ ('author', 'affiliated_with', 'institution'),   ('author', 'writes', 'paper'),('paper', 'cites', 'paper') ,  ('paper', 'has_topic', 'field_of_study')]\n",
    "numauth = 10000\n",
    "# Stil og størrelse for samlet plot\n",
    "plt.figure(figsize=(14, 8))\n",
    "sns.set(style=\"whitegrid\")\n",
    "# Loop gennem hver relation og plot histogram\n",
    "for i, relation in enumerate(relations):\n",
    "    # Hent udgående kanter for relationen\n",
    "    data = out_edges(numauth, relation)\n",
    "    \n",
    "    # Tilføj subplot for hver relation\n",
    "    plt.subplot(2, 2, i + 1)\n",
    "    plt.hist(data, bins=30, color='skyblue', edgecolor='black', alpha=0.7)\n",
    "    plt.xlabel('Uutgoing edges')\n",
    "    plt.ylabel('Frequency')\n",
    "    plt.title(f'Relation: {relation}')\n",
    "    plt.grid(axis='y', linestyle='--', alpha=0.7)\n",
    "# Juster layout, så plottene ikke overlapper\n",
    "plt.tight_layout()\n",
    "plt.show()"
   ]
  },
  {
   "cell_type": "code",
   "execution_count": null,
   "metadata": {},
   "outputs": [
    {
     "data": {
      "text/plain": [
       "Data(\n",
       "  num_nodes_dict={\n",
       "    author=1134649,\n",
       "    field_of_study=59965,\n",
       "    institution=8740,\n",
       "    paper=736389,\n",
       "  },\n",
       "  edge_index_dict={\n",
       "    (author, affiliated_with, institution)=[2, 1043998],\n",
       "    (author, writes, paper)=[2, 7145660],\n",
       "    (paper, cites, paper)=[2, 5416271],\n",
       "    (paper, has_topic, field_of_study)=[2, 7505078],\n",
       "  },\n",
       "  x_dict={ paper=[736389, 128] },\n",
       "  node_year={ paper=[736389, 1] },\n",
       "  edge_reltype={\n",
       "    (author, affiliated_with, institution)=[1043998, 1],\n",
       "    (author, writes, paper)=[7145660, 1],\n",
       "    (paper, cites, paper)=[5416271, 1],\n",
       "    (paper, has_topic, field_of_study)=[7505078, 1],\n",
       "  },\n",
       "  y_dict={ paper=[736389, 1] }\n",
       ")"
      ]
     },
     "execution_count": 80,
     "metadata": {},
     "output_type": "execute_result"
    }
   ],
   "source": [
    "graph"
   ]
  },
  {
   "cell_type": "code",
   "execution_count": null,
   "metadata": {},
   "outputs": [],
   "source": [
    "# read on metapath2vec. \n"
   ]
  }
 ],
 "metadata": {
  "kernelspec": {
   "display_name": "Python 3 (ipykernel)",
   "language": "python",
   "name": "python3"
  },
  "language_info": {
   "codemirror_mode": {
    "name": "ipython",
    "version": 3
   },
   "file_extension": ".py",
   "mimetype": "text/x-python",
   "name": "python",
   "nbconvert_exporter": "python",
   "pygments_lexer": "ipython3",
   "version": "3.9.18"
  }
 },
 "nbformat": 4,
 "nbformat_minor": 2
}
